{
 "cells": [
  {
   "cell_type": "code",
   "execution_count": 2,
   "metadata": {},
   "outputs": [],
   "source": [
    "import sympy as smp\n",
    "import numpy as np"
   ]
  },
  {
   "cell_type": "markdown",
   "metadata": {},
   "source": [
    "Convention used \n",
    "\n",
    "$\\ket{0} = \\begin{pmatrix} 1 \\\\ 0 \\\\ \\end{pmatrix}$\n",
    "\n",
    "$\\ket{1} = \\begin{pmatrix} 0 \\\\ 1 \\\\ \\end{pmatrix}$\n",
    "\n",
    "$\\ket{+} = \\frac{1}{\\sqrt{2}}(\\ket{0}+\\ket{1} )$\n",
    "\n",
    "$\\ket{-} = \\frac{1}{\\sqrt{2}}(\\ket{0} - \\ket{1}  )$"
   ]
  },
  {
   "cell_type": "markdown",
   "metadata": {},
   "source": [
    "For the resolution of the excercises it's needed to consider the Pauli matrices \n",
    "\\begin{align*}\n",
    "\t\\hat{X} &= \\begin{pmatrix} 0 & 1 \\\\ 1 & 0 \\end{pmatrix} \\qquad&\n",
    "\t\\hat{Y} &= \\begin{pmatrix} 0 & -i \\\\ i & 0 \\end{pmatrix} \\qquad &\n",
    "\t\\hat{Z} &= \\begin{pmatrix} 1 & 0 \\\\ 0 & -1 \\end{pmatrix}\n",
    "\\end{align*}"
   ]
  },
  {
   "cell_type": "code",
   "execution_count": 3,
   "metadata": {},
   "outputs": [],
   "source": [
    "X = smp.Matrix([[0,1],[1,0]]) # Matriz de Pauli en x\n",
    "Y = smp.Matrix([[0,-smp.I],[smp.I,0]]) # Matriz de Pauli en y\n",
    "Z = smp.Matrix([[1,0],[0,-1]]) # Matriz de Pauli en z"
   ]
  },
  {
   "cell_type": "code",
   "execution_count": 4,
   "metadata": {},
   "outputs": [],
   "source": [
    "ket0 = smp.Matrix([1,0])\n",
    "ket1 = smp.Matrix([0,1])"
   ]
  },
  {
   "cell_type": "markdown",
   "metadata": {},
   "source": [
    "# Exercise 1"
   ]
  },
  {
   "cell_type": "markdown",
   "metadata": {},
   "source": [
    "## 1)  Open this link to Craig Gidney's Quirk to see what happens qhen a qubit initially in the state $\\ket{+} = \\frac{1}{\\sqrt{2}}(\\ket{0}+\\ket{1} )$ (spin pointing in the $+X$ direction) rotates around the $Z$ axis. Open this link to see what happens if we increase the frequency $\\omega$ by 10 times.\n",
    "\n",
    "https://algassert.com/quirk#circuit={%22cols%22:[[%22H%22],[{%22id%22:%22Rzft%22,%22arg%22:%22pi%20t%22}]]}\n",
    "\n",
    "https://algassert.com/quirk#circuit={%22cols%22:[[%22H%22],[{%22id%22:%22Rzft%22,%22arg%22:%2210*pi%20t%22}]]}"
   ]
  },
  {
   "cell_type": "markdown",
   "metadata": {},
   "source": [
    "## 2) Write down the final state $\\ket{\\psi}_f$ if the initial state $\\ket{\\psi}_0 = \\ket{+} =\\frac{1}{\\sqrt{2}}(\\ket{0}+\\ket{1})$ is rotated by the following operators, build the the corresponding quantum cirtuit on Quirk and locate the final state on the Bloch sphere."
   ]
  },
  {
   "cell_type": "markdown",
   "metadata": {},
   "source": [
    "a) $R_{\\hat{Z}}(\\frac{\\pi}{4}) = e^{-\\frac{i \\pi}{8}}$"
   ]
  },
  {
   "cell_type": "code",
   "execution_count": null,
   "metadata": {},
   "outputs": [],
   "source": []
  },
  {
   "cell_type": "markdown",
   "metadata": {},
   "source": [
    "b) $R_{\\hat{Z}}(\\frac{\\pi}{2}) = e^{-\\frac{i \\pi}{4}}$"
   ]
  },
  {
   "cell_type": "code",
   "execution_count": null,
   "metadata": {},
   "outputs": [],
   "source": []
  },
  {
   "cell_type": "markdown",
   "metadata": {},
   "source": [
    "c) $R_{\\hat{Z}}(\\pi) = e^{-\\frac{i \\pi}{2}}$"
   ]
  },
  {
   "cell_type": "code",
   "execution_count": null,
   "metadata": {},
   "outputs": [],
   "source": []
  },
  {
   "cell_type": "markdown",
   "metadata": {},
   "source": [
    "d) $R_{\\hat{Z}}(2 \\pi) = e^{-i \\pi}$"
   ]
  },
  {
   "cell_type": "code",
   "execution_count": null,
   "metadata": {},
   "outputs": [],
   "source": []
  },
  {
   "cell_type": "markdown",
   "metadata": {},
   "source": [
    "Open this link to Craig Gidney's Quirk to see what happens when a qubit initially in the state $\\ket{0}$ (spin pointing in the $+Z$ direction) rotates around the $X$ axis. Does the right-hand rule describe the behavior of the qubit?"
   ]
  },
  {
   "cell_type": "code",
   "execution_count": null,
   "metadata": {},
   "outputs": [],
   "source": []
  },
  {
   "cell_type": "markdown",
   "metadata": {},
   "source": [
    "# Exercise 2"
   ]
  },
  {
   "cell_type": "markdown",
   "metadata": {},
   "source": [
    "## 1) If the qubit is in the state $\\ket{+}$ and we perform a quantum measurement in the $Z$ basis (that is, we measure the projection of the qubit's spin along the $Z$ direction as in a Stern-Gerlach experiment), calculate the probablilities of collapsing the state to $\\ket{0}$ and to $\\ket{1}$. Visualize this on Quirk."
   ]
  },
  {
   "cell_type": "code",
   "execution_count": null,
   "metadata": {},
   "outputs": [],
   "source": []
  },
  {
   "cell_type": "markdown",
   "metadata": {},
   "source": [
    "## 2) The qubit starts in state $\\ket{0}$ and the magnetic field in the $+X$ direction generates a precession about the $X$ axis. The unitary time evolution is given by $e^{-\\frac{i \\omega t}{2} \\hat{X}} = cos(\\frac{\\omega t}{2}) I - i sin (\\frac{\\omega t}{2}) \\hat{X}$ . If we perform  a measurement in the $Z$ basis, calculete the probability of obtaining the $\\ket{0}$ at time $t$ . Visualize this on Quirk"
   ]
  },
  {
   "cell_type": "markdown",
   "metadata": {},
   "source": [
    "# Exercise 3"
   ]
  },
  {
   "cell_type": "markdown",
   "metadata": {},
   "source": [
    "## 1) To express a density matrix in matrix notation, a basis has to be chosen. We typically use the $\\{ \\ket{0}, \\ket{1} \\} $ (Z) basis. Write down the density matrix for classical mixture of $50\\%$ $\\ket{0}$ and $50\\%$ $\\ket{1}$ in matrix form in the $Z$ basis."
   ]
  },
  {
   "cell_type": "code",
   "execution_count": null,
   "metadata": {},
   "outputs": [],
   "source": []
  },
  {
   "cell_type": "markdown",
   "metadata": {},
   "source": [
    "## 2) Write down the density matrix for the pure state $\\ket{+}$ in the $Z$ basis. How is it different form the previous state?"
   ]
  },
  {
   "cell_type": "code",
   "execution_count": null,
   "metadata": {},
   "outputs": [],
   "source": []
  },
  {
   "cell_type": "markdown",
   "metadata": {},
   "source": [
    "## 3) Write down the density matrix for the classical mixture of  $50\\%$ $\\ket{0}$ and $50\\%$ $\\ket{1}$ in matrix form in the $Z$ basis."
   ]
  },
  {
   "cell_type": "code",
   "execution_count": null,
   "metadata": {},
   "outputs": [],
   "source": []
  },
  {
   "cell_type": "markdown",
   "metadata": {},
   "source": [
    "# Exercise 4"
   ]
  },
  {
   "cell_type": "markdown",
   "metadata": {},
   "source": [
    "## 1) Find $n_x$ , $n_y$ , $n_z$ for the following pure states and verify what $n_{x}^2 + n_{y}^2 + n_{z}^2 = 1 $"
   ]
  },
  {
   "cell_type": "markdown",
   "metadata": {},
   "source": [
    "As it is mencioned in the problem, the way to get to the solution is to find the trace of the matricial product between the Pauli matrices and the density matrix $\\rho$ associated to the system, \n",
    "\\begin{align}\n",
    "n_x = Tr[\\hat{X}\\rho]  \\\\\n",
    "n_y = Tr[\\hat{Y}\\rho]  \\\\\n",
    "n_z = Tr[\\hat{Z}\\rho]  \\\\\n",
    "\\end{align}\n",
    "Its also important to mention that the density matrix of a pure state $\\psi$ is given by the next expression\n",
    "\\begin{align}\n",
    "\\rho = |\\psi\\rangle\\langle\\psi|\n",
    "\\end{align}"
   ]
  },
  {
   "cell_type": "markdown",
   "metadata": {},
   "source": [
    "a) $\\ket{0}$"
   ]
  },
  {
   "cell_type": "code",
   "execution_count": 5,
   "metadata": {
    "scrolled": true
   },
   "outputs": [
    {
     "name": "stdout",
     "output_type": "stream",
     "text": [
      "density matrix:\n"
     ]
    },
    {
     "data": {
      "text/latex": [
       "$\\displaystyle \\left[\\begin{matrix}1 & 0\\\\0 & 0\\end{matrix}\\right]$"
      ],
      "text/plain": [
       "Matrix([\n",
       "[1, 0],\n",
       "[0, 0]])"
      ]
     },
     "metadata": {},
     "output_type": "display_data"
    },
    {
     "data": {
      "text/plain": [
       "'nx = 0'"
      ]
     },
     "metadata": {},
     "output_type": "display_data"
    },
    {
     "data": {
      "text/plain": [
       "'ny = 0'"
      ]
     },
     "metadata": {},
     "output_type": "display_data"
    },
    {
     "data": {
      "text/plain": [
       "'nz = 1'"
      ]
     },
     "metadata": {},
     "output_type": "display_data"
    },
    {
     "data": {
      "text/plain": [
       "'the sum of the square of this terms is 1'"
      ]
     },
     "metadata": {},
     "output_type": "display_data"
    }
   ],
   "source": [
    "rho_0 = ket0*ket0.H  \n",
    "\n",
    "nx_0 = (X*rho_0).trace()\n",
    "\n",
    "ny_0 = (Y*rho_0).trace()\n",
    "\n",
    "nz_0 = (Z*rho_0).trace()\n",
    "\n",
    "print(\"density matrix:\")\n",
    "display(rho_0)\n",
    "display(f\"nx = {nx_0}\")\n",
    "display(f\"ny = {ny_0}\")\n",
    "display(f\"nz = {nz_0}\")\n",
    "display (f\"the sum of the square of this terms is {nx_0**2 + ny_0**2 +nz_0**2}\")"
   ]
  },
  {
   "cell_type": "markdown",
   "metadata": {},
   "source": [
    "b) $\\ket{1}$"
   ]
  },
  {
   "cell_type": "code",
   "execution_count": 6,
   "metadata": {},
   "outputs": [
    {
     "name": "stdout",
     "output_type": "stream",
     "text": [
      "density matrix:\n"
     ]
    },
    {
     "data": {
      "text/latex": [
       "$\\displaystyle \\left[\\begin{matrix}0 & 0\\\\0 & 1\\end{matrix}\\right]$"
      ],
      "text/plain": [
       "Matrix([\n",
       "[0, 0],\n",
       "[0, 1]])"
      ]
     },
     "metadata": {},
     "output_type": "display_data"
    },
    {
     "data": {
      "text/plain": [
       "'nx = 0'"
      ]
     },
     "metadata": {},
     "output_type": "display_data"
    },
    {
     "data": {
      "text/plain": [
       "'ny = 0'"
      ]
     },
     "metadata": {},
     "output_type": "display_data"
    },
    {
     "data": {
      "text/plain": [
       "'nz = -1'"
      ]
     },
     "metadata": {},
     "output_type": "display_data"
    },
    {
     "data": {
      "text/plain": [
       "'the sum of the square of this terms is 1'"
      ]
     },
     "metadata": {},
     "output_type": "display_data"
    }
   ],
   "source": [
    "rho_1 = ket1*ket1.H\n",
    "\n",
    "nx_1 = (X*rho_1).trace()\n",
    "\n",
    "ny_1 = (Y*rho_1).trace()\n",
    "\n",
    "nz_1 = (Z*rho_1).trace()\n",
    "\n",
    "print(\"density matrix:\")\n",
    "display(rho_1)\n",
    "display(f\"nx = {nx_1}\")\n",
    "display(f\"ny = {ny_1}\")\n",
    "display(f\"nz = {nz_1}\")\n",
    "display (f\"the sum of the square of this terms is {nx_1**2 + ny_1**2 +nz_1**2}\")"
   ]
  },
  {
   "cell_type": "markdown",
   "metadata": {},
   "source": [
    "c) $\\ket{+} = \\frac{1}{\\sqrt{2}}(\\ket{0} + \\ket{1})$"
   ]
  },
  {
   "cell_type": "code",
   "execution_count": 7,
   "metadata": {},
   "outputs": [
    {
     "name": "stdout",
     "output_type": "stream",
     "text": [
      "density matrix:\n"
     ]
    },
    {
     "data": {
      "text/latex": [
       "$\\displaystyle \\left[\\begin{matrix}\\frac{1}{2} & \\frac{1}{2}\\\\\\frac{1}{2} & \\frac{1}{2}\\end{matrix}\\right]$"
      ],
      "text/plain": [
       "Matrix([\n",
       "[1/2, 1/2],\n",
       "[1/2, 1/2]])"
      ]
     },
     "metadata": {},
     "output_type": "display_data"
    },
    {
     "data": {
      "text/plain": [
       "'nx = 1'"
      ]
     },
     "metadata": {},
     "output_type": "display_data"
    },
    {
     "data": {
      "text/plain": [
       "'ny = 0'"
      ]
     },
     "metadata": {},
     "output_type": "display_data"
    },
    {
     "data": {
      "text/plain": [
       "'nz = 0'"
      ]
     },
     "metadata": {},
     "output_type": "display_data"
    },
    {
     "data": {
      "text/plain": [
       "'the sum of the square of this terms is 1'"
      ]
     },
     "metadata": {},
     "output_type": "display_data"
    }
   ],
   "source": [
    "ket_mas = (1/smp.sqrt(2))*(ket0+ket1)\n",
    "\n",
    "rho_mas = ket_mas*ket_mas.H\n",
    "\n",
    "nx_mas = (X*rho_mas).trace()\n",
    "\n",
    "ny_mas = (Y*rho_mas).trace()\n",
    "\n",
    "nz_mas = (Z*rho_mas).trace()\n",
    "\n",
    "print(\"density matrix:\")\n",
    "display(rho_mas)\n",
    "display(f\"nx = {nx_mas}\")\n",
    "display(f\"ny = {ny_mas}\")\n",
    "display(f\"nz = {nz_mas}\")\n",
    "display (f\"the sum of the square of this terms is {nx_mas**2 + ny_mas**2 +nz_mas**2}\")"
   ]
  },
  {
   "cell_type": "markdown",
   "metadata": {},
   "source": [
    "d) $\\ket{-} = \\frac{1}{\\sqrt{2}}(\\ket{0} - \\ket{1} )$"
   ]
  },
  {
   "cell_type": "code",
   "execution_count": 8,
   "metadata": {},
   "outputs": [
    {
     "name": "stdout",
     "output_type": "stream",
     "text": [
      "density matrix:\n"
     ]
    },
    {
     "data": {
      "text/latex": [
       "$\\displaystyle \\left[\\begin{matrix}\\frac{1}{2} & - \\frac{1}{2}\\\\- \\frac{1}{2} & \\frac{1}{2}\\end{matrix}\\right]$"
      ],
      "text/plain": [
       "Matrix([\n",
       "[ 1/2, -1/2],\n",
       "[-1/2,  1/2]])"
      ]
     },
     "metadata": {},
     "output_type": "display_data"
    },
    {
     "data": {
      "text/plain": [
       "'nx = -1'"
      ]
     },
     "metadata": {},
     "output_type": "display_data"
    },
    {
     "data": {
      "text/plain": [
       "'ny = 0'"
      ]
     },
     "metadata": {},
     "output_type": "display_data"
    },
    {
     "data": {
      "text/plain": [
       "'nz = 0'"
      ]
     },
     "metadata": {},
     "output_type": "display_data"
    },
    {
     "data": {
      "text/plain": [
       "'the sum of the square of this terms is 1'"
      ]
     },
     "metadata": {},
     "output_type": "display_data"
    }
   ],
   "source": [
    "ket_men = (1/smp.sqrt(2))*(ket0-ket1)\n",
    "\n",
    "rho_men = ket_men*ket_men.H\n",
    "\n",
    "nx_men = (X*rho_men).trace()\n",
    "\n",
    "ny_men = (Y*rho_men).trace()\n",
    "\n",
    "nz_men = (Z*rho_men).trace()\n",
    "\n",
    "print(\"density matrix:\")\n",
    "display(rho_men)\n",
    "display(f\"nx = {nx_men}\")\n",
    "display(f\"ny = {ny_men}\")\n",
    "display(f\"nz = {nz_men}\")\n",
    "display (f\"the sum of the square of this terms is {nx_men**2 + ny_men**2 +nz_men**2}\")"
   ]
  },
  {
   "cell_type": "markdown",
   "metadata": {},
   "source": [
    "e) $\\ket{+i} = \\frac{1}{\\sqrt{2}} (\\ket{0} + i\\ket{1})$"
   ]
  },
  {
   "cell_type": "code",
   "execution_count": 9,
   "metadata": {},
   "outputs": [
    {
     "name": "stdout",
     "output_type": "stream",
     "text": [
      "density matrix:\n"
     ]
    },
    {
     "data": {
      "text/latex": [
       "$\\displaystyle \\left[\\begin{matrix}\\frac{1}{2} & - \\frac{i}{2}\\\\\\frac{i}{2} & \\frac{1}{2}\\end{matrix}\\right]$"
      ],
      "text/plain": [
       "Matrix([\n",
       "[1/2, -I/2],\n",
       "[I/2,  1/2]])"
      ]
     },
     "metadata": {},
     "output_type": "display_data"
    },
    {
     "data": {
      "text/plain": [
       "'nx = 0'"
      ]
     },
     "metadata": {},
     "output_type": "display_data"
    },
    {
     "data": {
      "text/plain": [
       "'ny = 1'"
      ]
     },
     "metadata": {},
     "output_type": "display_data"
    },
    {
     "data": {
      "text/plain": [
       "'nz = 0'"
      ]
     },
     "metadata": {},
     "output_type": "display_data"
    },
    {
     "data": {
      "text/plain": [
       "'the sum of the square of this terms is 1'"
      ]
     },
     "metadata": {},
     "output_type": "display_data"
    }
   ],
   "source": [
    "ket_imas = (1/smp.sqrt(2))*(ket0+smp.I*ket1)\n",
    "\n",
    "rho_imas = ket_imas*ket_imas.H\n",
    "\n",
    "nx_imas = (X*rho_imas).trace()\n",
    "\n",
    "ny_imas = (Y*rho_imas).trace()\n",
    "\n",
    "nz_imas = (Z*rho_imas).trace()\n",
    "\n",
    "print(\"density matrix:\")\n",
    "display(rho_imas)\n",
    "display(f\"nx = {nx_imas}\")\n",
    "display(f\"ny = {ny_imas}\")\n",
    "display(f\"nz = {nz_imas}\")\n",
    "display (f\"the sum of the square of this terms is {nx_imas**2 + ny_imas**2 +nz_imas**2}\")"
   ]
  },
  {
   "cell_type": "markdown",
   "metadata": {},
   "source": [
    "d) $\\ket{-i}= \\frac{1}{\\sqrt{2}} (\\ket{0} - i\\ket{1})$"
   ]
  },
  {
   "cell_type": "code",
   "execution_count": 10,
   "metadata": {},
   "outputs": [
    {
     "name": "stdout",
     "output_type": "stream",
     "text": [
      "density matrix:\n"
     ]
    },
    {
     "data": {
      "text/latex": [
       "$\\displaystyle \\left[\\begin{matrix}\\frac{1}{2} & \\frac{i}{2}\\\\- \\frac{i}{2} & \\frac{1}{2}\\end{matrix}\\right]$"
      ],
      "text/plain": [
       "Matrix([\n",
       "[ 1/2, I/2],\n",
       "[-I/2, 1/2]])"
      ]
     },
     "metadata": {},
     "output_type": "display_data"
    },
    {
     "data": {
      "text/plain": [
       "'nx = 0'"
      ]
     },
     "metadata": {},
     "output_type": "display_data"
    },
    {
     "data": {
      "text/plain": [
       "'ny = -1'"
      ]
     },
     "metadata": {},
     "output_type": "display_data"
    },
    {
     "data": {
      "text/plain": [
       "'nz = 0'"
      ]
     },
     "metadata": {},
     "output_type": "display_data"
    },
    {
     "data": {
      "text/plain": [
       "'the sum of the square of this terms is 1'"
      ]
     },
     "metadata": {},
     "output_type": "display_data"
    }
   ],
   "source": [
    "ket_imen = (1/smp.sqrt(2))*(ket0-smp.I*ket1)\n",
    "\n",
    "rho_imen = ket_imen*ket_imen.H\n",
    "\n",
    "nx_imen = (X*rho_imen).trace()\n",
    "\n",
    "ny_imen = (Y*rho_imen).trace()\n",
    "\n",
    "nz_imen = (Z*rho_imen).trace()\n",
    "\n",
    "print(\"density matrix:\")\n",
    "display(rho_imen)\n",
    "display(f\"nx = {nx_imen}\")\n",
    "display(f\"ny = {ny_imen}\")\n",
    "display(f\"nz = {nz_imen}\")\n",
    "display (f\"the sum of the square of this terms is {nx_imen**2 + ny_imen**2 +nz_imen**2}\")"
   ]
  },
  {
   "cell_type": "markdown",
   "metadata": {},
   "source": [
    "## 2) Find $n_x$ , $n_y$ , $n_z$ for the following mixed states"
   ]
  },
  {
   "cell_type": "markdown",
   "metadata": {},
   "source": [
    "In the case of a mixed state $|\\psi\\rangle$ the density matrix cannot be described like in a pure state. In a mixed state the correct expression for the density matrix $\\rho$ is a classical mixture of the possible quanctum states.\n",
    "\\begin{equation}\n",
    "\\rho = \\sum_{i} p_{i}|\\psi\\rangle_{i}\\langle\\psi|_{i}\n",
    "\\end{equation}\n",
    "Where $p_{i}$ is the probability of finding such state in the classical mixture. The form of finding $n_{x}, n_{y}$ and $n_{z}$ is the same as in a pure state"
   ]
  },
  {
   "cell_type": "markdown",
   "metadata": {},
   "source": [
    "a) 50%  $\\ket{0}$ and 50% $\\ket{1}$"
   ]
  },
  {
   "cell_type": "code",
   "execution_count": 11,
   "metadata": {},
   "outputs": [
    {
     "name": "stdout",
     "output_type": "stream",
     "text": [
      "density matrix:\n"
     ]
    },
    {
     "data": {
      "text/latex": [
       "$\\displaystyle \\left[\\begin{matrix}\\frac{1}{2} & 0\\\\0 & \\frac{1}{2}\\end{matrix}\\right]$"
      ],
      "text/plain": [
       "Matrix([\n",
       "[1/2,   0],\n",
       "[  0, 1/2]])"
      ]
     },
     "metadata": {},
     "output_type": "display_data"
    },
    {
     "data": {
      "text/plain": [
       "'nx = 0'"
      ]
     },
     "metadata": {},
     "output_type": "display_data"
    },
    {
     "data": {
      "text/plain": [
       "'ny = 0'"
      ]
     },
     "metadata": {},
     "output_type": "display_data"
    },
    {
     "data": {
      "text/plain": [
       "'nz = 0'"
      ]
     },
     "metadata": {},
     "output_type": "display_data"
    }
   ],
   "source": [
    "rho_01_half = smp.Rational(1,2)*(ket0*ket0.H + ket1*ket1.H)\n",
    "\n",
    "nx_01_half = (X*rho_01_half).trace()\n",
    "\n",
    "ny_01_half = (Y*rho_01_half).trace()\n",
    "\n",
    "nz_01_half = (Z*rho_01_half).trace()\n",
    "\n",
    "print(\"density matrix:\")\n",
    "display(rho_01_half)\n",
    "display(f\"nx = {nx_01_half}\")\n",
    "display(f\"ny = {ny_01_half}\")\n",
    "display(f\"nz = {nz_01_half}\")"
   ]
  },
  {
   "cell_type": "markdown",
   "metadata": {},
   "source": [
    "b) 50% $\\ket{+}$ and 50% $\\ket{-}$"
   ]
  },
  {
   "cell_type": "code",
   "execution_count": 17,
   "metadata": {},
   "outputs": [
    {
     "name": "stdout",
     "output_type": "stream",
     "text": [
      "density matrix:\n"
     ]
    },
    {
     "data": {
      "text/latex": [
       "$\\displaystyle \\left[\\begin{matrix}\\frac{1}{2} & 0\\\\0 & \\frac{1}{2}\\end{matrix}\\right]$"
      ],
      "text/plain": [
       "Matrix([\n",
       "[1/2,   0],\n",
       "[  0, 1/2]])"
      ]
     },
     "metadata": {},
     "output_type": "display_data"
    },
    {
     "data": {
      "text/plain": [
       "'nx = 0'"
      ]
     },
     "metadata": {},
     "output_type": "display_data"
    },
    {
     "data": {
      "text/plain": [
       "'ny = 0'"
      ]
     },
     "metadata": {},
     "output_type": "display_data"
    },
    {
     "data": {
      "text/plain": [
       "'nz = 0'"
      ]
     },
     "metadata": {},
     "output_type": "display_data"
    }
   ],
   "source": [
    "rho_mas_men_half = smp.Rational(1,2)*(ket_mas*ket_mas.H + ket_men*ket_men.H)\n",
    "\n",
    "nx_mas_men_half = (X*rho_mas_men_half).trace()\n",
    "\n",
    "ny_mas_men_half = (Y*rho_mas_men_half).trace()\n",
    "\n",
    "nz_mas_men_half = (Z*rho_mas_men_half).trace()\n",
    "\n",
    "print(\"density matrix:\")\n",
    "display(rho_mas_men_half)\n",
    "display(f\"nx = {nx_mas_men_half}\")\n",
    "display(f\"ny = {ny_mas_men_half}\")\n",
    "display(f\"nz = {nz_mas_men_half}\")"
   ]
  },
  {
   "cell_type": "markdown",
   "metadata": {},
   "source": [
    "c) 70%  $\\ket{0}$ and 30% $\\ket{1}$"
   ]
  },
  {
   "cell_type": "code",
   "execution_count": 20,
   "metadata": {},
   "outputs": [
    {
     "name": "stdout",
     "output_type": "stream",
     "text": [
      "density matrix:\n"
     ]
    },
    {
     "data": {
      "text/latex": [
       "$\\displaystyle \\left[\\begin{matrix}\\frac{7}{10} & 0\\\\0 & \\frac{3}{10}\\end{matrix}\\right]$"
      ],
      "text/plain": [
       "Matrix([\n",
       "[7/10,    0],\n",
       "[   0, 3/10]])"
      ]
     },
     "metadata": {},
     "output_type": "display_data"
    },
    {
     "data": {
      "text/plain": [
       "'nx = 0'"
      ]
     },
     "metadata": {},
     "output_type": "display_data"
    },
    {
     "data": {
      "text/plain": [
       "'ny = 0'"
      ]
     },
     "metadata": {},
     "output_type": "display_data"
    },
    {
     "data": {
      "text/plain": [
       "'nz = 2/5'"
      ]
     },
     "metadata": {},
     "output_type": "display_data"
    }
   ],
   "source": [
    "rho_01_mix = smp.Rational(7,10)*(ket0*ket0.H) + smp.Rational(3,10)*(ket1*ket1.H)\n",
    "\n",
    "nx_01_mix = (X*rho_01_mix).trace()\n",
    "\n",
    "ny_01_mix = (Y*rho_01_mix).trace()\n",
    "\n",
    "nz_01_mix = (Z*rho_01_mix).trace()\n",
    "\n",
    "print(\"density matrix:\")\n",
    "display(rho_01_mix)\n",
    "display(f\"nx = {nx_01_mix}\")\n",
    "display(f\"ny = {ny_01_mix}\")\n",
    "display(f\"nz = {nz_01_mix}\")"
   ]
  },
  {
   "cell_type": "markdown",
   "metadata": {},
   "source": [
    "d) 70%  $\\ket{+}$ and 30% $\\ket{-}$"
   ]
  },
  {
   "cell_type": "code",
   "execution_count": 21,
   "metadata": {},
   "outputs": [
    {
     "name": "stdout",
     "output_type": "stream",
     "text": [
      "density matrix:\n"
     ]
    },
    {
     "data": {
      "text/latex": [
       "$\\displaystyle \\left[\\begin{matrix}\\frac{1}{2} & \\frac{1}{5}\\\\\\frac{1}{5} & \\frac{1}{2}\\end{matrix}\\right]$"
      ],
      "text/plain": [
       "Matrix([\n",
       "[1/2, 1/5],\n",
       "[1/5, 1/2]])"
      ]
     },
     "metadata": {},
     "output_type": "display_data"
    },
    {
     "data": {
      "text/plain": [
       "'nx = 2/5'"
      ]
     },
     "metadata": {},
     "output_type": "display_data"
    },
    {
     "data": {
      "text/plain": [
       "'ny = 0'"
      ]
     },
     "metadata": {},
     "output_type": "display_data"
    },
    {
     "data": {
      "text/plain": [
       "'nz = 0'"
      ]
     },
     "metadata": {},
     "output_type": "display_data"
    }
   ],
   "source": [
    "rho_mas_men_mix = smp.Rational(7,10)*(ket_mas*ket_mas.H) + smp.Rational(3,10)*(ket_men*ket_men.H)\n",
    "\n",
    "nx_mas_men_mix = (X*rho_mas_men_mix).trace()\n",
    "\n",
    "ny_mas_men_mix = (Y*rho_mas_men_mix).trace()\n",
    "\n",
    "nz_mas_men_mix = (Z*rho_mas_men_mix).trace()\n",
    "\n",
    "print(\"density matrix:\")\n",
    "display(rho_mas_men_mix)\n",
    "display(f\"nx = {nx_mas_men_mix}\")\n",
    "display(f\"ny = {ny_mas_men_mix}\")\n",
    "display(f\"nz = {nz_mas_men_mix}\")"
   ]
  },
  {
   "cell_type": "markdown",
   "metadata": {},
   "source": [
    "e) 20% $\\ket{+i}$ and 80% $\\ket{-i}$"
   ]
  },
  {
   "cell_type": "code",
   "execution_count": 22,
   "metadata": {},
   "outputs": [
    {
     "name": "stdout",
     "output_type": "stream",
     "text": [
      "density matrix:\n"
     ]
    },
    {
     "data": {
      "text/latex": [
       "$\\displaystyle \\left[\\begin{matrix}\\frac{1}{2} & \\frac{3 i}{10}\\\\- \\frac{3 i}{10} & \\frac{1}{2}\\end{matrix}\\right]$"
      ],
      "text/plain": [
       "Matrix([\n",
       "[    1/2, 3*I/10],\n",
       "[-3*I/10,    1/2]])"
      ]
     },
     "metadata": {},
     "output_type": "display_data"
    },
    {
     "data": {
      "text/plain": [
       "'nx = 0'"
      ]
     },
     "metadata": {},
     "output_type": "display_data"
    },
    {
     "data": {
      "text/plain": [
       "'ny = -3/5'"
      ]
     },
     "metadata": {},
     "output_type": "display_data"
    },
    {
     "data": {
      "text/plain": [
       "'nz = 0'"
      ]
     },
     "metadata": {},
     "output_type": "display_data"
    }
   ],
   "source": [
    "rho_i_half = smp.Rational(1,5)*(ket_imas*ket_imas.H)+smp.Rational(4,5)*(ket_imen*ket_imen.H)\n",
    "\n",
    "nx_i_half = (X*rho_i_half).trace()\n",
    "\n",
    "ny_i_half = (Y*rho_i_half).trace()\n",
    "\n",
    "nz_i_half = (Z*rho_i_half).trace()\n",
    "\n",
    "print(\"density matrix:\")\n",
    "display(rho_i_half)\n",
    "display(f\"nx = {nx_i_half}\")\n",
    "display(f\"ny = {ny_i_half}\")\n",
    "display(f\"nz = {nz_i_half}\")"
   ]
  },
  {
   "cell_type": "markdown",
   "metadata": {},
   "source": [
    "## 3) A little stat-mech digression: a thermal state for 1 qubit can be expressed as $p_0 \\ket{0}\\bra{0} + p_0 \\ket{1}\\bra{1}$, where $p_0 = \\frac{1}{Z}$ , $p_1 = e^{-E \\beta}$ , $\\beta = \\frac{1}{k_B T}$, and $Z = 1 + e^{-E \\beta}$ . Find the Bloch sphere Catesian coordinates of thermal states with the following temperatures:"
   ]
  },
  {
   "cell_type": "markdown",
   "metadata": {},
   "source": [
    "a) $T  = 0$"
   ]
  },
  {
   "cell_type": "code",
   "execution_count": null,
   "metadata": {},
   "outputs": [],
   "source": []
  },
  {
   "cell_type": "markdown",
   "metadata": {},
   "source": [
    "b) $T \\rightarrow \\infty$"
   ]
  },
  {
   "cell_type": "code",
   "execution_count": null,
   "metadata": {},
   "outputs": [],
   "source": []
  },
  {
   "cell_type": "markdown",
   "metadata": {},
   "source": [
    "c) Any temperature between $0$ and $\\infty$"
   ]
  },
  {
   "cell_type": "code",
   "execution_count": null,
   "metadata": {},
   "outputs": [],
   "source": []
  },
  {
   "cell_type": "markdown",
   "metadata": {},
   "source": [
    "## 4) Start with a pure state of the form $\\ket{\\psi} = cos(\\frac{\\theta}{2})\\ket{0} + e^{i \\phi} sin(\\frac{\\theta}{2}) \\ket{1}$, find $n_x$ , $n_y$ , $n_z$, abd prove that $n_{x}^2 + n_{y}^2 + n_{z}^2 = 1$"
   ]
  }
 ],
 "metadata": {
  "kernelspec": {
   "display_name": "base",
   "language": "python",
   "name": "python3"
  },
  "language_info": {
   "codemirror_mode": {
    "name": "ipython",
    "version": 3
   },
   "file_extension": ".py",
   "mimetype": "text/x-python",
   "name": "python",
   "nbconvert_exporter": "python",
   "pygments_lexer": "ipython3",
   "version": "3.12.2"
  }
 },
 "nbformat": 4,
 "nbformat_minor": 2
}
