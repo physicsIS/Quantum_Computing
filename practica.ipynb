{
 "cells": [
  {
   "cell_type": "code",
   "execution_count": 7,
   "metadata": {},
   "outputs": [],
   "source": [
    "import sympy as smp\n",
    "import numpy as np"
   ]
  },
  {
   "cell_type": "markdown",
   "metadata": {},
   "source": [
    "Convention used \n",
    "\n",
    "$|{0}\\rangle = \\begin{pmatrix} 1 \\\\ 0 \\\\ \\end{pmatrix}$\n",
    "\n",
    "$|{1}\\rangle = \\begin{pmatrix} 0 \\\\ 1 \\\\ \\end{pmatrix}$\n",
    "\n",
    "$|+\\rangle = \\frac{1}{\\sqrt{2}}(|{0}\\rangle + |{1}\\rangle )$\n",
    "\n",
    "$|-\\rangle = \\frac{1}{\\sqrt{2}}(|{0}\\rangle - |{1}\\rangle )$\n",
    "\n",
    "\n",
    "\n"
   ]
  },
  {
   "cell_type": "markdown",
   "metadata": {},
   "source": [
    "For the resolution of the excercises it's needed to consider the Pauli matrices \n",
    "\\begin{align}\n",
    "\\hat{X} = \\begin{pmatrix} 0 & 1 \\\\ 1 & 0 \\end{pmatrix} \n",
    "\\hat{Y} = \\begin{pmatrix} 0 & -i \\\\ i & 0 \\end{pmatrix} \n",
    "\\hat{Z} = \\begin{pmatrix} 1 & 0 \\\\ 0 & -1 \\end{pmatrix}\n",
    "\\end{align}"
   ]
  },
  {
   "cell_type": "code",
   "execution_count": 8,
   "metadata": {},
   "outputs": [],
   "source": [
    "X = smp.Matrix([[0,1],[1,0]]) # Matriz de Pauli en x\n",
    "Y = smp.Matrix([[0,-smp.I],[smp.I,0]]) # Matriz de Pauli en y\n",
    "Z = smp.Matrix([[1,0],[0,-1]]) # Matriz de Pauli en z"
   ]
  },
  {
   "cell_type": "code",
   "execution_count": 9,
   "metadata": {},
   "outputs": [],
   "source": [
    "ket0 = smp.Matrix([1,0])\n",
    "ket1 = smp.Matrix([0,1])"
   ]
  },
  {
   "cell_type": "markdown",
   "metadata": {},
   "source": [
    "# Exercise 4"
   ]
  },
  {
   "cell_type": "markdown",
   "metadata": {},
   "source": [
    "## 1) Find $n_x$ , $n_y$ , $n_z$ for the following pure states and verify what $n_{x}^2 + n_{y}^2 + n_{z}^2 = 1 $"
   ]
  },
  {
   "cell_type": "markdown",
   "metadata": {},
   "source": [
    "As it is mencioned in the problem, the way to get to the solution is to find the trace of the matricial product between the Pauli matrices and the density matrix $\\rho$ associated to the system, \n",
    "\\begin{align}\n",
    "n_x = Tr[\\hat{X}\\rho]  \\\\\n",
    "n_y = Tr[\\hat{Y}\\rho]  \\\\\n",
    "n_z = Tr[\\hat{Z}\\rho]  \\\\\n",
    "\\end{align}\n",
    "Its also important to mention that the density matrix of a pure state $\\psi$ is given by the next expression\n",
    "\\begin{align}\n",
    "\\rho = |\\psi\\rangle\\langle\\psi|\n",
    "\\end{align}"
   ]
  },
  {
   "cell_type": "markdown",
   "metadata": {},
   "source": [
    "a) $|{0}\\rangle$"
   ]
  },
  {
   "cell_type": "code",
   "execution_count": 24,
   "metadata": {
    "scrolled": true
   },
   "outputs": [
    {
     "name": "stdout",
     "output_type": "stream",
     "text": [
      "desnity matrix:\n"
     ]
    },
    {
     "data": {
      "text/latex": [
       "$\\displaystyle \\left[\\begin{matrix}1 & 0\\\\0 & 0\\end{matrix}\\right]$"
      ],
      "text/plain": [
       "Matrix([\n",
       "[1, 0],\n",
       "[0, 0]])"
      ]
     },
     "metadata": {},
     "output_type": "display_data"
    },
    {
     "data": {
      "text/plain": [
       "'nx_0 = 0'"
      ]
     },
     "metadata": {},
     "output_type": "display_data"
    },
    {
     "data": {
      "text/plain": [
       "'ny_0 = 0'"
      ]
     },
     "metadata": {},
     "output_type": "display_data"
    },
    {
     "data": {
      "text/plain": [
       "'nz_0 = 1'"
      ]
     },
     "metadata": {},
     "output_type": "display_data"
    },
    {
     "data": {
      "text/plain": [
       "'the sum of the square of this terms is 1'"
      ]
     },
     "metadata": {},
     "output_type": "display_data"
    }
   ],
   "source": [
    "rho_0 = ket0*ket0.H  #\n",
    "\n",
    "nx_0 = (X*rho_0).trace()\n",
    "\n",
    "ny_0 = (Y*rho_0).trace()\n",
    "\n",
    "nz_0 = (Z*rho_0).trace()\n",
    "\n",
    "print(\"density matrix:\")\n",
    "display(rho_0)\n",
    "display(f\"nx = {nx_0}\")\n",
    "display(f\"ny = {ny_0}\")\n",
    "display(f\"nz = {nz_0}\")\n",
    "display (f\"the sum of the square of this terms is {nx_0**2 + ny_0**2 +nz_0**2}\")"
   ]
  },
  {
   "cell_type": "markdown",
   "metadata": {},
   "source": [
    "b) $|{1}\\rangle$"
   ]
  },
  {
   "cell_type": "code",
   "execution_count": 25,
   "metadata": {},
   "outputs": [
    {
     "name": "stdout",
     "output_type": "stream",
     "text": [
      "desnity matrix:\n"
     ]
    },
    {
     "data": {
      "text/latex": [
       "$\\displaystyle \\left[\\begin{matrix}0 & 0\\\\0 & 1\\end{matrix}\\right]$"
      ],
      "text/plain": [
       "Matrix([\n",
       "[0, 0],\n",
       "[0, 1]])"
      ]
     },
     "metadata": {},
     "output_type": "display_data"
    },
    {
     "data": {
      "text/plain": [
       "'nx_0 = 0'"
      ]
     },
     "metadata": {},
     "output_type": "display_data"
    },
    {
     "data": {
      "text/plain": [
       "'ny_0 = 0'"
      ]
     },
     "metadata": {},
     "output_type": "display_data"
    },
    {
     "data": {
      "text/plain": [
       "'nz_0 = -1'"
      ]
     },
     "metadata": {},
     "output_type": "display_data"
    },
    {
     "data": {
      "text/plain": [
       "'the sum of the square of this terms is 1'"
      ]
     },
     "metadata": {},
     "output_type": "display_data"
    }
   ],
   "source": [
    "rho_1 = ket1*ket1.H\n",
    "\n",
    "nx_1 = (X*rho_1).trace()\n",
    "\n",
    "ny_1 = (Y*rho_1).trace()\n",
    "\n",
    "nz_1 = (Z*rho_1).trace()\n",
    "\n",
    "print(\"density matrix:\")\n",
    "display(rho_1)\n",
    "display(f\"nx = {nx_1}\")\n",
    "display(f\"ny = {ny_1}\")\n",
    "display(f\"nz = {nz_1}\")\n",
    "display (f\"the sum of the square of this terms is {nx_1**2 + ny_1**2 +nz_1**2}\")"
   ]
  },
  {
   "cell_type": "markdown",
   "metadata": {},
   "source": [
    "c) $|+\\rangle = \\frac{1}{\\sqrt{2}}(|{0}\\rangle + |{1}\\rangle )$"
   ]
  },
  {
   "cell_type": "code",
   "execution_count": 28,
   "metadata": {},
   "outputs": [
    {
     "name": "stdout",
     "output_type": "stream",
     "text": [
      "density matrix:\n"
     ]
    },
    {
     "data": {
      "text/latex": [
       "$\\displaystyle \\left[\\begin{matrix}\\frac{1}{2} & \\frac{1}{2}\\\\\\frac{1}{2} & \\frac{1}{2}\\end{matrix}\\right]$"
      ],
      "text/plain": [
       "Matrix([\n",
       "[1/2, 1/2],\n",
       "[1/2, 1/2]])"
      ]
     },
     "metadata": {},
     "output_type": "display_data"
    },
    {
     "data": {
      "text/plain": [
       "'nx = 1'"
      ]
     },
     "metadata": {},
     "output_type": "display_data"
    },
    {
     "data": {
      "text/plain": [
       "'ny = 0'"
      ]
     },
     "metadata": {},
     "output_type": "display_data"
    },
    {
     "data": {
      "text/plain": [
       "'nz = 0'"
      ]
     },
     "metadata": {},
     "output_type": "display_data"
    },
    {
     "data": {
      "text/plain": [
       "'the sum of the square of this terms is 1'"
      ]
     },
     "metadata": {},
     "output_type": "display_data"
    }
   ],
   "source": [
    "ket_mas = (1/smp.sqrt(2))*(ket0+ket1)\n",
    "\n",
    "rho_mas = ket_mas*ket_mas.H\n",
    "\n",
    "nx_mas = (X*rho_mas).trace()\n",
    "\n",
    "ny_mas = (Y*rho_mas).trace()\n",
    "\n",
    "nz_mas = (Z*rho_mas).trace()\n",
    "\n",
    "print(\"density matrix:\")\n",
    "display(rho_mas)\n",
    "display(f\"nx = {nx_mas}\")\n",
    "display(f\"ny = {ny_mas}\")\n",
    "display(f\"nz = {nz_mas}\")\n",
    "display (f\"the sum of the square of this terms is {nx_mas**2 + ny_mas**2 +nz_mas**2}\")"
   ]
  },
  {
   "cell_type": "markdown",
   "metadata": {},
   "source": [
    "d) $|-\\rangle = \\frac{1}{\\sqrt{2}}(|{0}\\rangle - |{1}\\rangle )$"
   ]
  },
  {
   "cell_type": "code",
   "execution_count": 29,
   "metadata": {},
   "outputs": [
    {
     "name": "stdout",
     "output_type": "stream",
     "text": [
      "density matrix:\n"
     ]
    },
    {
     "data": {
      "text/latex": [
       "$\\displaystyle \\left[\\begin{matrix}\\frac{1}{2} & - \\frac{1}{2}\\\\- \\frac{1}{2} & \\frac{1}{2}\\end{matrix}\\right]$"
      ],
      "text/plain": [
       "Matrix([\n",
       "[ 1/2, -1/2],\n",
       "[-1/2,  1/2]])"
      ]
     },
     "metadata": {},
     "output_type": "display_data"
    },
    {
     "data": {
      "text/plain": [
       "'nx = -1'"
      ]
     },
     "metadata": {},
     "output_type": "display_data"
    },
    {
     "data": {
      "text/plain": [
       "'ny = 0'"
      ]
     },
     "metadata": {},
     "output_type": "display_data"
    },
    {
     "data": {
      "text/plain": [
       "'nz = 0'"
      ]
     },
     "metadata": {},
     "output_type": "display_data"
    },
    {
     "data": {
      "text/plain": [
       "'the sum of the square of this terms is 1'"
      ]
     },
     "metadata": {},
     "output_type": "display_data"
    }
   ],
   "source": [
    "ket_men = (1/smp.sqrt(2))*(ket0-ket1)\n",
    "\n",
    "rho_men = ket_men*ket_men.H\n",
    "\n",
    "nx_men = (X*rho_men).trace()\n",
    "\n",
    "ny_men = (Y*rho_men).trace()\n",
    "\n",
    "nz_men = (Z*rho_men).trace()\n",
    "\n",
    "print(\"density matrix:\")\n",
    "display(rho_men)\n",
    "display(f\"nx = {nx_men}\")\n",
    "display(f\"ny = {ny_men}\")\n",
    "display(f\"nz = {nz_men}\")\n",
    "display (f\"the sum of the square of this terms is {nx_men**2 + ny_men**2 +nz_men**2}\")"
   ]
  },
  {
   "cell_type": "markdown",
   "metadata": {},
   "source": [
    "e) $|+i\\rangle = \\frac{1}{\\sqrt{2}} (|{0}\\rangle + i|{1}\\rangle)$"
   ]
  },
  {
   "cell_type": "code",
   "execution_count": 30,
   "metadata": {},
   "outputs": [
    {
     "name": "stdout",
     "output_type": "stream",
     "text": [
      "desnity matrix:\n"
     ]
    },
    {
     "data": {
      "text/latex": [
       "$\\displaystyle \\left[\\begin{matrix}\\frac{1}{2} & - \\frac{i}{2}\\\\\\frac{i}{2} & \\frac{1}{2}\\end{matrix}\\right]$"
      ],
      "text/plain": [
       "Matrix([\n",
       "[1/2, -I/2],\n",
       "[I/2,  1/2]])"
      ]
     },
     "metadata": {},
     "output_type": "display_data"
    },
    {
     "data": {
      "text/plain": [
       "'nx = 0'"
      ]
     },
     "metadata": {},
     "output_type": "display_data"
    },
    {
     "data": {
      "text/plain": [
       "'ny = 1'"
      ]
     },
     "metadata": {},
     "output_type": "display_data"
    },
    {
     "data": {
      "text/plain": [
       "'nz = 0'"
      ]
     },
     "metadata": {},
     "output_type": "display_data"
    },
    {
     "data": {
      "text/plain": [
       "'the sum of the square of this terms is 1'"
      ]
     },
     "metadata": {},
     "output_type": "display_data"
    }
   ],
   "source": [
    "ket_imas = (1/smp.sqrt(2))*(ket0+smp.I*ket1)\n",
    "\n",
    "rho_imas = ket_imas*ket_imas.H\n",
    "\n",
    "nx_imas = (X*rho_imas).trace()\n",
    "\n",
    "ny_imas = (Y*rho_imas).trace()\n",
    "\n",
    "nz_imas = (Z*rho_imas).trace()\n",
    "\n",
    "print(\"density matrix:\")\n",
    "display(rho_imas)\n",
    "display(f\"nx = {nx_imas}\")\n",
    "display(f\"ny = {ny_imas}\")\n",
    "display(f\"nz = {nz_imas}\")\n",
    "display (f\"the sum of the square of this terms is {nx_imas**2 + ny_imas**2 +nz_imas**2}\")"
   ]
  },
  {
   "cell_type": "markdown",
   "metadata": {},
   "source": [
    "d) $|{-i}\\rangle = \\frac{1}{\\sqrt{2}} (|{0}\\rangle - i|{1}\\rangle)$"
   ]
  },
  {
   "cell_type": "code",
   "execution_count": 31,
   "metadata": {},
   "outputs": [
    {
     "name": "stdout",
     "output_type": "stream",
     "text": [
      "desnity matrix:\n"
     ]
    },
    {
     "data": {
      "text/latex": [
       "$\\displaystyle \\left[\\begin{matrix}\\frac{1}{2} & \\frac{i}{2}\\\\- \\frac{i}{2} & \\frac{1}{2}\\end{matrix}\\right]$"
      ],
      "text/plain": [
       "Matrix([\n",
       "[ 1/2, I/2],\n",
       "[-I/2, 1/2]])"
      ]
     },
     "metadata": {},
     "output_type": "display_data"
    },
    {
     "data": {
      "text/plain": [
       "'nx = 0'"
      ]
     },
     "metadata": {},
     "output_type": "display_data"
    },
    {
     "data": {
      "text/plain": [
       "'ny = -1'"
      ]
     },
     "metadata": {},
     "output_type": "display_data"
    },
    {
     "data": {
      "text/plain": [
       "'nz = 0'"
      ]
     },
     "metadata": {},
     "output_type": "display_data"
    },
    {
     "data": {
      "text/plain": [
       "'the sum of the square of this terms is 1'"
      ]
     },
     "metadata": {},
     "output_type": "display_data"
    }
   ],
   "source": [
    "ket_imen = (1/smp.sqrt(2))*(ket0-smp.I*ket1)\n",
    "\n",
    "rho_imen = ket_imen*ket_imen.H\n",
    "\n",
    "nx_imen = (X*rho_imen).trace()\n",
    "\n",
    "ny_imen = (Y*rho_imen).trace()\n",
    "\n",
    "nz_imen = (Z*rho_imen).trace()\n",
    "\n",
    "print(\"density matrix:\")\n",
    "display(rho_imen)\n",
    "display(f\"nx = {nx_imen}\")\n",
    "display(f\"ny = {ny_imen}\")\n",
    "display(f\"nz = {nz_imen}\")\n",
    "display (f\"the sum of the square of this terms is {nx_imen**2 + ny_imen**2 +nz_imen**2}\")"
   ]
  },
  {
   "cell_type": "markdown",
   "metadata": {},
   "source": [
    "## 2) Find $n_x$ , $n_y$ , $n_z$ for the following mixed states"
   ]
  },
  {
   "cell_type": "markdown",
   "metadata": {},
   "source": []
  }
 ],
 "metadata": {
  "kernelspec": {
   "display_name": "Python 3 (ipykernel)",
   "language": "python",
   "name": "python3"
  },
  "language_info": {
   "codemirror_mode": {
    "name": "ipython",
    "version": 3
   },
   "file_extension": ".py",
   "mimetype": "text/x-python",
   "name": "python",
   "nbconvert_exporter": "python",
   "pygments_lexer": "ipython3",
   "version": "3.12.3"
  }
 },
 "nbformat": 4,
 "nbformat_minor": 2
}
