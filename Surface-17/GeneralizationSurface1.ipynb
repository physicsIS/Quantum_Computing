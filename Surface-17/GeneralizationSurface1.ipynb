{
 "cells": [
  {
   "cell_type": "markdown",
   "metadata": {},
   "source": [
    "# Generalization for Surface Codes with Arbitrary Distance"
   ]
  },
  {
   "cell_type": "markdown",
   "metadata": {},
   "source": [
    "It begins with a generalization for a surface code. This can be observed for short-distance codes such as \\$d=3\\$ or \\$d=5\\$, where visualization is straightforward. We start by defining that for any surface code of distance \\$d\\$, there will be \\$d^2\\$ data qubits and \\$d^2 - 1\\$ ancillary qubits. With this, a classical distribution is presented for \\$d=5\\$, along with a similar geometric proposal that allows mapping the qubits arbitrarily for any \\$d\\$."
   ]
  },
  {
   "cell_type": "markdown",
   "metadata": {},
   "source": [
    "<div style=\"display: flex; justify-content: center; gap: 20px;\">\n",
    "  <div style=\"text-align: center;\">\n",
    "    <img src=\"Distance5Code.jpeg\" width=\"400\"/>\n",
    "    <p style=\"font-size: 14px;\">Figure 1: Classical Representation</p>\n",
    "  </div>\n",
    "  <div style=\"text-align: center;\">\n",
    "    <img src=\"DistribuciónD5Kayro.jpeg\" width=\"400\"/>\n",
    "    <p style=\"font-size: 14px;\">Figure 2: Proposed Representation</p>\n",
    "  </div>\n",
    "</div>\n",
    "<p>\n",
    "The previous image provides a classical representation where each qubit can be mapped to a coordinate; however, this can unnecessarily increase the grid size, especially at the edges. For this reason, a similar geometry is proposed in which all the qubits are contained within a grid of size $2d^2 - 1$. It is also worth noting that the data qubits are represented as red points, while the ancillary qubits are represented as turquoise points. The $X$ measurements are represented with blue lines, and the $Z$ measurements with pink lines.\n",
    "</p>"
   ]
  },
  {
   "cell_type": "markdown",
   "metadata": {},
   "source": [
    "With this new proposed geometry, an arbitrary mapping can be developed for any code of length \\$d\\$, as presented below:"
   ]
  },
  {
   "cell_type": "code",
   "execution_count": 38,
   "metadata": {},
   "outputs": [
    {
     "name": "stdout",
     "output_type": "stream",
     "text": [
      "3.7.0 (default, Jun  4 2019, 10:47:24) \n",
      "[GCC Intel(R) C++ gcc 8.3 mode]\n"
     ]
    }
   ],
   "source": [
    "#This tell us the python version that the Jupyter have\n",
    "import sys\n",
    "print(sys.version)"
   ]
  },
  {
   "cell_type": "code",
   "execution_count": 39,
   "metadata": {},
   "outputs": [],
   "source": [
    "#!module avail python"
   ]
  },
  {
   "cell_type": "code",
   "execution_count": 40,
   "metadata": {},
   "outputs": [],
   "source": [
    "#!python3 -m pip install pymatching --user"
   ]
  },
  {
   "cell_type": "code",
   "execution_count": 41,
   "metadata": {
    "scrolled": true
   },
   "outputs": [],
   "source": [
    "#Importing all the libraries usefull for this simulation\n",
    "import stim\n",
    "#import pymatching as pm\n",
    "import math\n",
    "import numpy as np\n",
    "import matplotlib.pyplot as plt\n",
    "from matplotlib.colors import LinearSegmentedColormap, Normalize\n",
    "from matplotlib.cm import ScalarMappable\n",
    "#import seaborn as sns"
   ]
  },
  {
   "cell_type": "code",
   "execution_count": 42,
   "metadata": {},
   "outputs": [],
   "source": [
    "# Define the code distance\n",
    "d = 5\n",
    "\n",
    "# Define how many data qubits there will be\n",
    "data_qubits = d*d\n",
    "# Number of ancillary qubits\n",
    "ancilla_qubits = (d*d) - 1\n",
    "\n",
    "total_qubits = data_qubits + ancilla_qubits"
   ]
  },
  {
   "cell_type": "code",
   "execution_count": 43,
   "metadata": {},
   "outputs": [],
   "source": [
    "def Qubits_coordinates(total_qubits):\n",
    "    # For this section, a distribution as seen in Figure 2 is proposed\n",
    "    # Two lists are initialized to store the locations on a grid like in the figure\n",
    "    data_coords = []\n",
    "    ancilla_coords = []\n",
    "    # A loop is made to go through the entire grid containing coordinates and define each point as data or ancilla\n",
    "    for i in range(total_qubits):\n",
    "        for j in range(total_qubits):\n",
    "            # An index can be defined to traverse the matrix continuously\n",
    "            # First, the positions of the data qubits are determined\n",
    "            if i%2 == 0 and j%2 == 0:\n",
    "                data_coords.append((i,j))\n",
    "            # The positions of the ancilla qubits are determined without considering the edges\n",
    "            if i%2 != 0 and j%2 != 0:\n",
    "                ancilla_coords.append((i,j))\n",
    "            # Ancilla qubits on the edges are defined according to the proposed geometry in Figure 2\n",
    "            # Horizontal edges\n",
    "            if i == 0 and 4*j + 3 < total_qubits:\n",
    "                ancilla_coords.append((i, 4*j + 3)) # This equation 4j+3 separates the odd 1,5,9... from the others 3,7,11...\n",
    "            if i == total_qubits - 1 and 4*j + 1 < total_qubits:\n",
    "                ancilla_coords.append((i, 4*j + 1))\n",
    "            # Vertical edges\n",
    "            if j == 0 and 4*i + 1 < total_qubits:\n",
    "                ancilla_coords.append((4*i + 1, j))\n",
    "            if j == total_qubits - 1 and 4*i + 3 < total_qubits:\n",
    "                ancilla_coords.append((4*i + 3, j))\n",
    "\n",
    "    return data_coords, ancilla_coords\n",
    "\n",
    "# When calling this function, each qubit according to the distribution in Figure 2 is associated with an ordered pair\n",
    "# This aims to obtain a bijection that relates the natural numbers with each ordered pair, following the classical numbering of the code\n",
    "# Data qubits are numbered from 1 to d^2 and ancillary qubits from d^2 to total_qubits"
   ]
  },
  {
   "cell_type": "code",
   "execution_count": 44,
   "metadata": {},
   "outputs": [],
   "source": [
    "# A function is proposed to create a dictionary that generates a bijection ordered pair <-> qubit number\n",
    "def Qubits_pair_num(data_coords # List of ordered pairs corresponding to the data qubits,\n",
    "                    ,ancilla_coords # List of ordered pairs corresponding to the ancilla qubits,\n",
    "                    ,d # Code distance\n",
    "):\n",
    "    # Dictionary that stores ordered pair: number\n",
    "    qubits_coords_num = {}\n",
    "    # An ordering is proposed for the data qubits as is usual in a surface code\n",
    "    data_order = sorted(data_coords, key=lambda coord: (coord[0], coord[1]))\n",
    "    # Assign numbers to the ordered data qubits as desired\n",
    "    for idx, coord in enumerate(data_order, start=1):\n",
    "        qubits_coords_num[coord] = idx\n",
    "\n",
    "    # Sort the ancilla qubits by ordered pairs\n",
    "    ancilla_order = sorted(ancilla_coords, key=lambda coord: (coord[0], coord[1]))\n",
    "    # Define the starting number for the ancilla qubits\n",
    "    start_ancilla = d*d+1\n",
    "    # Assign numbers to the ancilla qubits\n",
    "    for idx, coord in enumerate(ancilla_order, start=start_ancilla):\n",
    "        qubits_coords_num[coord] = idx\n",
    "\n",
    "    # Invert the dictionary to obtain a function that relates qubit numbers to their coordinates and, subsequently,\n",
    "    # relate the qubit numbers with their adjacent qubits\n",
    "    qubits_num_coords = {num: coord for coord, num in qubits_coords_num.items()}\n",
    "    \n",
    "    return qubits_num_coords"
   ]
  },
  {
   "cell_type": "code",
   "execution_count": 45,
   "metadata": {},
   "outputs": [],
   "source": [
    "# Define a function that will classify the ancilla qubits according to the geometry in Figure 2, determining whether an ancilla is X or Z\n",
    "def Class_ancilla(qubits_num_coords # Dictionary relating qubit number to its ordered pair\n",
    "                        , d # Code distance\n",
    "                       ):\n",
    "    # Define the starting and ending number of the ancilla qubits\n",
    "    start = d*d + 1\n",
    "    end = 2*d*d - 1\n",
    "    total_qubits = 2*d - 1\n",
    "\n",
    "    # Define an empty dictionary that will relate the qubit number to whether it is an X or Z stabilizer\n",
    "    tipos_num = {}\n",
    "\n",
    "    # Define an auxiliary function that will classify each qubit individually by its position\n",
    "    def Stabil_coords(i, j):\n",
    "        # Analyze the points inside the edges of the code\n",
    "        if i % 2 == 1 and j % 2 == 1:\n",
    "            if i % 4 == 1:\n",
    "                return 'X' if (j % 4 == 1) else 'Z'\n",
    "            else:\n",
    "                return 'X' if (j % 4 == 3) else 'Z'\n",
    "        # Analyze the points on the edges of the grid\n",
    "        if i == 0:\n",
    "            return 'X' if (j % 4 == 3) else 'Z'\n",
    "        if i == total_qubits - 1:\n",
    "            return 'X' if (j % 4 == 1) else 'Z'\n",
    "        if j == 0:\n",
    "            return 'X' if (i % 4 == 1) else 'Z'\n",
    "        if j == total_qubits - 1:\n",
    "            return 'X' if (i % 4 == 3) else 'Z'\n",
    "        return 'Z'\n",
    "\n",
    "    # Extract and classify each ancilla\n",
    "    for num, (i, j) in qubits_num_coords.items():\n",
    "        if start <= num <= end:\n",
    "            tipos_num[num] = Stabil_coords(i, j)\n",
    "\n",
    "    return tipos_num"
   ]
  },
  {
   "cell_type": "code",
   "execution_count": 46,
   "metadata": {},
   "outputs": [],
   "source": [
    "# Define a distance function\n",
    "def Dist(data_q, ancilla_q):\n",
    "    return math.hypot(data_q[0] - ancilla_q[0], data_q[1] - ancilla_q[1])"
   ]
  },
  {
   "cell_type": "code",
   "execution_count": 47,
   "metadata": {},
   "outputs": [],
   "source": [
    "def Ancil_per_data(qubits_num_coords # Dictionary that associates qubit number with ordered pair\n",
    "                   , d):\n",
    "    # Start by defining the radius within which ancilla qubits can exist for each data qubit\n",
    "    radio = 2**(0.5)\n",
    "\n",
    "    # Define the data qubits and where the numbering of ancilla qubits starts and ends\n",
    "    data_qubits = d*d\n",
    "    start  = data_qubits + 1\n",
    "    end = 2*data_qubits - 1\n",
    "\n",
    "    # Define a dictionary that will relate each data qubit number to a list representing the ancillas corresponding to that data qubit\n",
    "    ancilla_per_data = {}\n",
    "    \n",
    "    # For each data qubit\n",
    "    for data_q in range(1, data_qubits + 1):\n",
    "        data_posit = qubits_num_coords[data_q]\n",
    "        vecinos = []\n",
    "\n",
    "        # Iterate over the ancilla qubits\n",
    "        for ancilla_q in range(start, end + 1):\n",
    "            ancilla_posit = qubits_num_coords[ancilla_q]\n",
    "            if Dist(data_posit, ancilla_posit) <= radio:\n",
    "                vecinos.append(ancilla_q)\n",
    "\n",
    "        ancilla_per_data[data_q] = vecinos\n",
    "\n",
    "    # With the dictionary defined from data to ancilla, it is more convenient to have something relating ancilla to data\n",
    "    data_per_ancilla = {ancilla_q: [] for ancilla_q in range(start, end + 1)}\n",
    "    for data_q, ancillas in ancilla_per_data.items():\n",
    "        for ancilla_q in ancillas:\n",
    "            data_per_ancilla[ancilla_q].append(data_q)\n",
    "    \n",
    "    return data_per_ancilla"
   ]
  },
  {
   "cell_type": "markdown",
   "metadata": {},
   "source": [
    "With the previous code, a generalization is achieved for any code of distance \\$d\\$; once the grid is constructed as in Figure 2 and the ancillas related to each data qubit are known, the necessary gates are proposed to connect each qubit. It is important to note that after applying all the previous functions, we have three dictionaries:\n",
    "\n",
    "* qubits\\_num\\_coords: Relates a qubit number to an ordered pair, containing all data and ancilla qubits.\n",
    "* tipos\\_num: Relates the number of each ancilla qubit to its corresponding X or Z stabilizer.\n",
    "* data\\_per\\_ancilla: Relates each ancilla qubit to a list of data qubits that it would measure."
   ]
  },
  {
   "cell_type": "markdown",
   "metadata": {},
   "source": [
    "With this, a function is proposed to create the quantum circuit, where all qubits are first reset, and then the ancilla-data relationships are applied."
   ]
  },
  {
   "cell_type": "code",
   "execution_count": 48,
   "metadata": {},
   "outputs": [],
   "source": [
    "def Quantum_circuit(tipos_num # Dictionary relating ancilla number to X or Z\n",
    "                   , data_per_ancilla # Dictionary relating each ancilla qubit number to a list of data qubits\n",
    "                    , d # Code distance\n",
    "                    , shots # Number of repetitions of the full code, used for statistics\n",
    "                   , rounds # Complete cycle of stabilizer measurements. Each round generates different syndromes\n",
    "                   ):\n",
    "    # Define the number of data and ancilla qubits\n",
    "    data_qubits = d*d\n",
    "    ancilla_qubits = (d*d) - 1\n",
    "    total_qubits = data_qubits + ancilla_qubits\n",
    "    \n",
    "    # Start by creating an empty circuit\n",
    "    circuit = stim.Circuit()\n",
    "\n",
    "    \"\"\"\n",
    "    # Propose a massive reset for all qubits\n",
    "    circuit.append(\"R\", range(1, total_qubits + 1))\n",
    "    \"\"\"    \n",
    "    # Arrange the ancillas once more\n",
    "    ancillas = sorted(tipos_num.keys())\n",
    "    # Start defining each circuit and begin a loop over the rounds\n",
    "    for rounds_i in range(rounds):\n",
    "        # Propose a massive reset for all qubits\n",
    "        circuit.append(\"R\", range(1, total_qubits + 1))\n",
    "        for i in tipos_num.keys():\n",
    "            # First handle the X operators\n",
    "            if tipos_num[i] == \"X\":\n",
    "                # Get the list of associated data qubits\n",
    "                data_asoc = data_per_ancilla.get(i)\n",
    "                circuit.append(\"H\", [i])\n",
    "                # Apply the relation to each qubit\n",
    "                for k in data_asoc:\n",
    "                    circuit.append(\"CNOT\", [i,k])\n",
    "                circuit.append(\"H\", [i])\n",
    "            # Handle the Z operators\n",
    "            if tipos_num[i] == \"Z\":\n",
    "                # Get the list of associated data qubits\n",
    "                data_asoc = data_per_ancilla.get(i)\n",
    "                # Apply the relation to each qubit\n",
    "                for k in data_asoc:\n",
    "                    circuit.append(\"CNOT\", [k,i])\n",
    "\n",
    "            # Measure the stabilizers at this point for each element, \n",
    "            # because separating the cycles as in the Stim version allows optimization,\n",
    "            # which could introduce more entanglement errors\n",
    "            circuit.append(\"M\", [i])\n",
    "            circuit.append(\"DETECTOR\", [stim.target_rec(-1)], tag=f\"R{rounds_i}_A{i}\")\n",
    "\n",
    "        # Add an if-statement to reset the ancillas if it's not the last round\n",
    "        if rounds_i < rounds - 1:\n",
    "            circuit.append(\"R\", list(tipos_num.keys())) \n",
    "\n",
    "    # Two lines suggested by DS for specialized error detection\n",
    "    sampler = circuit.compile_detector_sampler()\n",
    "    syndroms = sampler.sample(shots=shots)\n",
    "\n",
    "    return circuit, syndroms"
   ]
  },
  {
   "cell_type": "code",
   "execution_count": 49,
   "metadata": {},
   "outputs": [],
   "source": [
    "def Sindrome_visual(syndroms # List resulting from the circuit\n",
    "                    , d\n",
    "                    , measurements):\n",
    "    # Start by obtaining a list of lists of booleans and split it into multiple lists representing errors per measurement\n",
    "    detectors = np.array_split(circuito[1].flatten(), measurements)\n",
    "\n",
    "    # Define the ranges of the ancilla qubits and their numbers as previously done\n",
    "    data_qubits = d*d\n",
    "    ancilla_qubits = (d*d) - 1\n",
    "    total_qubits = data_qubits + ancilla_qubits\n",
    "    \n",
    "    # Define the code length and similar values to create a dictionary relating ancilla to their failure counts\n",
    "    ancilla_fails = {}\n",
    "    for i in range(data_qubits + 1, total_qubits + 1):\n",
    "        ancilla_fails[i] = 0\n",
    "\n",
    "    # Loop over each ancilla and each measurement list\n",
    "    for measurement in range(len(detectors)):\n",
    "        for j in range(ancilla_qubits):\n",
    "            if detectors[measurement][j] == True:\n",
    "                ancilla_fails[data_qubits + j + 1] += 1\n",
    "\n",
    "    # At this point, there is a dictionary relating each ancilla qubit number to the number of errors it experienced per measurement\n",
    "    # Propose a bar chart\n",
    "    plt.figure(figsize=(20, 10))  # Size of the chart\n",
    "    plt.bar(ancilla_fails.keys(), ancilla_fails.values(), color='teal', edgecolor='black')\n",
    "    plt.grid(axis='y', linestyle='--', alpha=0.9)\n",
    "    plt.title(\"Detection of change in the ancilla qubits\", fontsize=20)\n",
    "    plt.xlabel(\"Number of qubit\", fontsize=20)\n",
    "    plt.ylabel(\"Times that Detector Activate\", fontsize=20)\n",
    "    plt.tight_layout()\n",
    "    plt.savefig(\"Detection of change in the ancilla qubits.png\", dpi=300, bbox_inches='tight')\n",
    "    plt.show()"
   ]
  },
  {
   "cell_type": "code",
   "execution_count": 54,
   "metadata": {},
   "outputs": [],
   "source": [
    "# Test measurement of the system\n",
    "measurements = 10000\n",
    "data_ancilla_qubits = Qubits_coordinates(total_qubits)\n",
    "qubits_pair_num = Qubits_pair_num(data_ancilla_qubits[0], data_ancilla_qubits[1], d)\n",
    "clasificacion_ancilla = Class_ancilla(qubits_pair_num, d)\n",
    "ancil_per_data = Ancil_per_data(qubits_pair_num, d)\n",
    "circuito = Quantum_circuit(clasificacion_ancilla, ancil_per_data, d, 1, measurements)\n",
    "\n",
    "# print(circuito)"
   ]
  },
  {
   "cell_type": "code",
   "execution_count": 55,
   "metadata": {},
   "outputs": [
    {
     "data": {
      "image/png": "[encoded data removed]",
      "text/plain": [
       "<Figure size 1440x720 with 1 Axes>"
      ]
     },
     "metadata": {
      "needs_background": "light"
     },
     "output_type": "display_data"
    }
   ],
   "source": [
    "# Test the visualization function\n",
    "# print(circuito[1])\n",
    "Sindrome_visual(circuito[1], d, measurements)"
   ]
  },
  {
   "cell_type": "code",
   "execution_count": null,
   "metadata": {},
   "outputs": [],
   "source": []
  }
 ],
 "metadata": {
  "kernelspec": {
   "display_name": "Python 3",
   "language": "python",
   "name": "python3"
  },
  "language_info": {
   "codemirror_mode": {
    "name": "ipython",
    "version": 3
   },
   "file_extension": ".py",
   "mimetype": "text/x-python",
   "name": "python",
   "nbconvert_exporter": "python",
   "pygments_lexer": "ipython3",
   "version": "3.7.0"
  }
 },
 "nbformat": 4,
 "nbformat_minor": 5
}
