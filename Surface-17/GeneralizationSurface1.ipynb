{
 "cells": [
  {
   "cell_type": "markdown",
   "id": "0657062c-3ba9-4b18-9bfa-eb74aae15a4c",
   "metadata": {},
   "source": [
    "# Generalización para codigos de Superficie con distancia arbitraria"
   ]
  },
  {
   "cell_type": "markdown",
   "id": "1f39bfa4-0095-456c-b94b-41cbdd9bcb77",
   "metadata": {},
   "source": [
    "Se comienza con una generalización para un codigo de superficie. Se puede apreciar para codigos de corta distancia como $d=3$ o $d=5$ en los cuales es sencilla la visualización. Se comienza definiendo que para cualquier codigo de superficie de distacia $d$ se va a tener $d^2$ qubits de datos y $d^2 -1$ qubits ancilares. Con esto se presenta una ditribución para $d=5$ de manera clasica y una propuesta geometrica similar que permite mapear los qubits de manera arbitraria para cualquier $d$."
   ]
  },
  {
   "cell_type": "markdown",
   "id": "74a00fd8-5377-4dd8-8738-d867ce81349a",
   "metadata": {},
   "source": [
    "<div style=\"display: flex; justify-content: center; gap: 20px;\">\n",
    "  <div style=\"text-align: center;\">\n",
    "    <img src=\"Distance5Code.jpeg\" width=\"400\"/>\n",
    "    <p style=\"font-size: 14px;\">Figura 1: Representación Clasica</p>\n",
    "  </div>\n",
    "  <div style=\"text-align: center;\">\n",
    "    <img src=\"DistribuciónD5Kayro.jpeg\" width=\"400\"/>\n",
    "    <p style=\"font-size: 14px;\">Figura 2: Representación Propuesta</p>\n",
    "  </div>\n",
    "</div>\n",
    "<p>\n",
    "La imagen anterior da una representación clásica donde se logra mapear cada qubit a una coordenada, sin embargo, esto puede aumentar el tamaño de la grilla innecesariamente, en especial en las aristas. Es por ello que se propone una geometría similar en la cual todos los qubits se ven contenidos en una grilla de tamaño \\(2d^2 - 1\\). Asimismo, es valioso denotar que los qubits de datos se representan como puntos rojos mientras que los ancilares se representan con puntos turquesa. Las mediciones \\(X\\) se representan con líneas azules y las \\(Z\\) con líneas rosas.\n",
    "</p>"
   ]
  },
  {
   "cell_type": "markdown",
   "id": "0b462d2c-4152-42f4-9da7-da4abd791d7c",
   "metadata": {},
   "source": [
    "Con esta nueva geometría propuesta se puede desarrolla un mapeo arbitrario para cualquier codigo de longitud $d$ que se presenta a continuacion:"
   ]
  },
  {
   "cell_type": "code",
   "execution_count": 6,
   "id": "9ed49dcf-0ac7-405d-95bd-3934e8308296",
   "metadata": {},
   "outputs": [],
   "source": [
    "import stim\n",
    "import math"
   ]
  },
  {
   "cell_type": "code",
   "execution_count": 7,
   "id": "e9f142a8-01c5-4d21-955e-839ed2d174e3",
   "metadata": {},
   "outputs": [],
   "source": [
    "#Se define la distancia del codigo\n",
    "d = 5\n",
    "\n",
    "#Se define cuantos qubits de data se va a tener\n",
    "data_qubits = d*d\n",
    "#Cantidad de qubits ancilares\n",
    "ancilla_qubits = (d*d) - 1\n",
    "\n",
    "total_qubits = data_qubits + ancilla_qubits"
   ]
  },
  {
   "cell_type": "code",
   "execution_count": 8,
   "id": "a447de82-2384-4514-8158-c9d3994a0ca6",
   "metadata": {},
   "outputs": [],
   "source": [
    "def Qubits_coordinates(total_qubits):\n",
    "    #Para este apartado se propone una distribución como se ve en la Figura 2\n",
    "    #Se comienza dos listas las cuales guardaran las ubicaciones en una grilla como la de la figura\n",
    "    data_coords = []\n",
    "    ancilla_coords = []\n",
    "    #Se hace un ciclo que va a recorrer toda la grilla que contiene coordenadas y se define cada punto data o ancilla\n",
    "    for i in range (total_qubits):\n",
    "        for j in range (total_qubits):\n",
    "            #Se puede definir el indice para recorrer la matriz de manera continua\n",
    "            #Se determinan primero las posiciones de los data qubits\n",
    "            if i%2 == 0 and j%2 == 0:\n",
    "                data_coords.append((i,j))\n",
    "            #Se determinan las posiciones de los ancilla qubits sin tomar en cuenta los bordes\n",
    "            if i%2 != 0 and j%2 != 0:\n",
    "                ancilla_coords.append((i,j))\n",
    "            #Se definen los ancilla en los bordes segun la geometría propuesta en la Figura 2\n",
    "            #Bordes horizontales\n",
    "            if i == 0 and 4*j + 3 < total_qubits:\n",
    "                ancilla_coords.append((i, 4*j + 3)) #Esta ecuación 4j+3 separa los impares 1,5,9.. de los otros 3,7,11\n",
    "            if i == total_qubits - 1 and 4*j + 1 < total_qubits:\n",
    "                ancilla_coords.append((i, 4*j + 1))\n",
    "            #Bordes verticales\n",
    "            if j == 0 and 4*i + 1 < total_qubits:\n",
    "                ancilla_coords.append((4*i + 1, j))\n",
    "            if j == total_qubits - 1 and 4*i + 3 < total_qubits:\n",
    "                ancilla_coords.append((4*i + 3, j))\n",
    "\n",
    "    return data_coords,ancilla_coords\n",
    "#Al llamar esta función cada qubit segun la distribución en la Figura 2 se encuentra asociado a un par ordenado\n",
    "#Con esto se busca obtener una biyección que relacione los numeros naturales con cada par ordenado siguiendo la numeración clasica de codigo\n",
    "#Se comienza numerando los qubits de data de 1 a d^2 y los ancillares con numeros de d^2 a total_qubits"
   ]
  },
  {
   "cell_type": "code",
   "execution_count": 13,
   "id": "128f542e-9f3c-4b0b-9b33-60286b455bd0",
   "metadata": {},
   "outputs": [],
   "source": [
    "#Se propone una función que realice un diccionario que realice una biyyeción par ordenado con un número de qubit\n",
    "def Qubits_pair_num(data_coords #Lista de pares ordenados referentes a los qubits de datos,\n",
    "                    ,ancilla_coords #Lista de pares ordenados referentes a los qubits ancilla,\n",
    "                    ,d #Distancia del código\n",
    "):\n",
    "    #Diccionario que guarda par ordenado:numero\n",
    "    qubits_coords_num = {}\n",
    "    #Se propone un ordenamiento para los data como suele ser en un surface code\n",
    "    data_order = sorted(data_coords, key=lambda coord: (coord[0], coord[1]))\n",
    "    #Se asignan los numeros a los datos ordenados como se quiere\n",
    "    for idx, coord in enumerate(data_order, start=1):\n",
    "        qubits_coords_num[coord] = idx\n",
    "\n",
    "    #Se ordenan las ancillas por pares ordenadas\n",
    "    ancilla_order = sorted(ancilla_coords, key=lambda coord: (coord[0], coord[1]))\n",
    "    #Se define el numero donde comienzan los números de los ancilla\n",
    "    start_ancilla = d*d+1\n",
    "    #Se asignan los números de qubits_ancilla a los restantes\n",
    "    for idx, coord in enumerate(ancilla_order, start=start_ancilla):\n",
    "        qubits_coords_num[coord] = idx\n",
    "\n",
    "    #Se invierte el diccionario para obtener una funcion que relacione los numeros de qubit a sus coordenadas y posterior a eso poder \n",
    "    #Relacionar los numeros de qubit con sus adyacentes\n",
    "    qubits_num_coords= {num: coord for coord, num in qubits_coords_num.items()}\n",
    "    \n",
    "    return qubits_num_coords"
   ]
  },
  {
   "cell_type": "code",
   "execution_count": 15,
   "id": "cf6d9934-12ee-46f0-b757-a5f7b26980f3",
   "metadata": {},
   "outputs": [],
   "source": [
    "#Se define una función que va a clasificar las ancillas segun la geometría de la Figura 2, en donde determina si un ancilla es X o Z\n",
    "def Class_ancilla(qubits_num_coords #Diccionario que relaciona el número del qubit a su par ordenado\n",
    "                        , d #Distancia del codigo\n",
    "                       ):\n",
    "    #Se define el inicio de los número de qubits ancilares y el final\n",
    "    start = d*d + 1\n",
    "    end = 2*d*d - 1\n",
    "    total_qubits = 2*d - 1\n",
    "\n",
    "    #Se define un diccionario vacío que va a relacionar el número de qubit con si es un estabilizador X o Z\n",
    "    tipos_num = {}\n",
    "\n",
    "    #Se define una función auxiliar que va a clasificar acada qubit individualmente por su posición\n",
    "    def Stabil_coords(i, j):\n",
    "        #Se analizan los puntos internos a los bordes del código\n",
    "        if i % 2 == 1 and j % 2 == 1:\n",
    "            if i % 4 == 1:\n",
    "                return 'x' if (j % 4 == 1) else 'z'\n",
    "            else:\n",
    "                return 'x' if (j % 4 == 3) else 'z'\n",
    "        #Se analizan los puntos en los bordes de la grilla\n",
    "        if i == 0:\n",
    "            return 'x' if (j % 4 == 3) else 'z'\n",
    "        if i == total_qubits - 1:\n",
    "            return 'x' if (j % 4 == 1) else 'z'\n",
    "        if j == 0:\n",
    "            return 'x' if (i % 4 == 1) else 'z'\n",
    "        if j == total_qubits - 1:\n",
    "            return 'x' if (i % 4 == 3) else 'z'\n",
    "        return 'z'\n",
    "\n",
    "    #Se extraen y se clasifica cada ancila\n",
    "    for num, (i, j) in qubits_num_coords.items():\n",
    "        if inicio <= num <= fin:\n",
    "            tipos_num[num] = Stabil_coords(i, j)\n",
    "\n",
    "    return tipos_num"
   ]
  },
  {
   "cell_type": "code",
   "execution_count": 16,
   "id": "0149be81-77ed-4996-95be-740349d781df",
   "metadata": {},
   "outputs": [],
   "source": [
    "#Se define una función de distacia\n",
    "def Dist(data_q,ancilla_q):\n",
    "    return math.hypot(p[0] - q[0], p[1] - q[1])"
   ]
  },
  {
   "cell_type": "code",
   "execution_count": 17,
   "id": "b15d7d0b-2ba5-41f8-8ca5-c898e4639b0f",
   "metadata": {},
   "outputs": [],
   "source": [
    "def Ancil_per_data(qubits_num_coords #Diccionario que asocia el numero de qubit a par ordenado\n",
    "                   , d):\n",
    "    #Se comienza definiendo el radio donde puedene existir los ancilares para el data\n",
    "    radio = 2**(0.5)\n",
    "\n",
    "    #Se definen los qubits de datos y donde comienza y termina la numeración de los ancilares\n",
    "    data_qubits = d*d\n",
    "    start  = data_qubits + 1\n",
    "    end = 2*data_qubits - 1\n",
    "\n",
    "    #Se define un diccionario que va a relacionar el numero de qubit de data con una lista que representa cada ancilar que le corresponde al data\n",
    "    ancil_per_data = {}\n",
    "    \n",
    "    # Para cada data qubit\n",
    "    for data_q in range(1, data_qubits + 1):\n",
    "        data_posit = qubits_num_coords[data_q]\n",
    "        vecinos = []\n",
    "\n",
    "        #Se itera sobre los ancilas\n",
    "        for ancilla_q in range(start, end + 1):\n",
    "            ancilla_posit = qubits_num_coords[ancilla_q]\n",
    "            if Dist(data_posit, ancilla_posit) <= radio:\n",
    "                vecinos.append(ancilla_q)\n",
    "\n",
    "        ancil_per_data[data_q] = vecinos\n",
    "\n",
    "    return ancil_per_data"
   ]
  },
  {
   "cell_type": "markdown",
   "id": "2517d171-d0d3-464e-9136-85352dbb07a0",
   "metadata": {},
   "source": [
    "Con el codigo anterior se logra una generalización para cualquier codigo de distancia $d$. Una vez construida la grilla como en la Figura 2 y conociendo los ancilla relacionados a cada data se proponen las gates necesarias para relacionar cada qubit"
   ]
  }
 ],
 "metadata": {
  "kernelspec": {
   "display_name": "Python 3 (ipykernel)",
   "language": "python",
   "name": "python3"
  },
  "language_info": {
   "codemirror_mode": {
    "name": "ipython",
    "version": 3
   },
   "file_extension": ".py",
   "mimetype": "text/x-python",
   "name": "python",
   "nbconvert_exporter": "python",
   "pygments_lexer": "ipython3",
   "version": "3.12.7"
  }
 },
 "nbformat": 4,
 "nbformat_minor": 5
}
